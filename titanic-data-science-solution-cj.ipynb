{
 "cells": [
  {
   "cell_type": "markdown",
   "id": "17c0acc8",
   "metadata": {
    "papermill": {
     "duration": 0.008038,
     "end_time": "2023-03-24T23:04:49.792948",
     "exception": false,
     "start_time": "2023-03-24T23:04:49.784910",
     "status": "completed"
    },
    "tags": []
   },
   "source": [
    "# **Acquiring data**"
   ]
  },
  {
   "cell_type": "code",
   "execution_count": 1,
   "id": "b995b222",
   "metadata": {
    "execution": {
     "iopub.execute_input": "2023-03-24T23:04:49.809089Z",
     "iopub.status.busy": "2023-03-24T23:04:49.808355Z",
     "iopub.status.idle": "2023-03-24T23:04:49.840741Z",
     "shell.execute_reply": "2023-03-24T23:04:49.839644Z"
    },
    "papermill": {
     "duration": 0.043302,
     "end_time": "2023-03-24T23:04:49.843283",
     "exception": false,
     "start_time": "2023-03-24T23:04:49.799981",
     "status": "completed"
    },
    "tags": []
   },
   "outputs": [],
   "source": [
    "import pandas as pd\n",
    "import numpy as np\n",
    "\n",
    "# acquire train data and test data\n",
    "train_df = pd.read_csv('../input/titanic/train.csv')\n",
    "test_df = pd.read_csv('../input/titanic/test.csv')\n",
    "full_data = [train_df, test_df]"
   ]
  },
  {
   "cell_type": "markdown",
   "id": "a4a7922b",
   "metadata": {
    "papermill": {
     "duration": 0.006889,
     "end_time": "2023-03-24T23:04:49.857084",
     "exception": false,
     "start_time": "2023-03-24T23:04:49.850195",
     "status": "completed"
    },
    "tags": []
   },
   "source": [
    "# **Processing and analyzing data**"
   ]
  },
  {
   "cell_type": "code",
   "execution_count": 2,
   "id": "64403dfd",
   "metadata": {
    "execution": {
     "iopub.execute_input": "2023-03-24T23:04:49.872298Z",
     "iopub.status.busy": "2023-03-24T23:04:49.871851Z",
     "iopub.status.idle": "2023-03-24T23:04:49.899879Z",
     "shell.execute_reply": "2023-03-24T23:04:49.898628Z"
    },
    "papermill": {
     "duration": 0.039059,
     "end_time": "2023-03-24T23:04:49.902859",
     "exception": false,
     "start_time": "2023-03-24T23:04:49.863800",
     "status": "completed"
    },
    "tags": []
   },
   "outputs": [
    {
     "name": "stdout",
     "output_type": "stream",
     "text": [
      "<class 'pandas.core.frame.DataFrame'>\n",
      "RangeIndex: 891 entries, 0 to 890\n",
      "Data columns (total 12 columns):\n",
      " #   Column       Non-Null Count  Dtype  \n",
      "---  ------       --------------  -----  \n",
      " 0   PassengerId  891 non-null    int64  \n",
      " 1   Survived     891 non-null    int64  \n",
      " 2   Pclass       891 non-null    int64  \n",
      " 3   Name         891 non-null    object \n",
      " 4   Sex          891 non-null    object \n",
      " 5   Age          714 non-null    float64\n",
      " 6   SibSp        891 non-null    int64  \n",
      " 7   Parch        891 non-null    int64  \n",
      " 8   Ticket       891 non-null    object \n",
      " 9   Fare         891 non-null    float64\n",
      " 10  Cabin        204 non-null    object \n",
      " 11  Embarked     889 non-null    object \n",
      "dtypes: float64(2), int64(5), object(5)\n",
      "memory usage: 83.7+ KB\n"
     ]
    }
   ],
   "source": [
    "# check data types\n",
    "train_df.info()"
   ]
  },
  {
   "cell_type": "code",
   "execution_count": 3,
   "id": "0119cb69",
   "metadata": {
    "execution": {
     "iopub.execute_input": "2023-03-24T23:04:49.919574Z",
     "iopub.status.busy": "2023-03-24T23:04:49.918723Z",
     "iopub.status.idle": "2023-03-24T23:04:49.947732Z",
     "shell.execute_reply": "2023-03-24T23:04:49.946474Z"
    },
    "papermill": {
     "duration": 0.039974,
     "end_time": "2023-03-24T23:04:49.950380",
     "exception": false,
     "start_time": "2023-03-24T23:04:49.910406",
     "status": "completed"
    },
    "tags": []
   },
   "outputs": [
    {
     "data": {
      "text/html": [
       "<div>\n",
       "<style scoped>\n",
       "    .dataframe tbody tr th:only-of-type {\n",
       "        vertical-align: middle;\n",
       "    }\n",
       "\n",
       "    .dataframe tbody tr th {\n",
       "        vertical-align: top;\n",
       "    }\n",
       "\n",
       "    .dataframe thead th {\n",
       "        text-align: right;\n",
       "    }\n",
       "</style>\n",
       "<table border=\"1\" class=\"dataframe\">\n",
       "  <thead>\n",
       "    <tr style=\"text-align: right;\">\n",
       "      <th></th>\n",
       "      <th>PassengerId</th>\n",
       "      <th>Survived</th>\n",
       "      <th>Pclass</th>\n",
       "      <th>Name</th>\n",
       "      <th>Sex</th>\n",
       "      <th>Age</th>\n",
       "      <th>SibSp</th>\n",
       "      <th>Parch</th>\n",
       "      <th>Ticket</th>\n",
       "      <th>Fare</th>\n",
       "      <th>Cabin</th>\n",
       "      <th>Embarked</th>\n",
       "    </tr>\n",
       "  </thead>\n",
       "  <tbody>\n",
       "    <tr>\n",
       "      <th>0</th>\n",
       "      <td>1</td>\n",
       "      <td>0</td>\n",
       "      <td>3</td>\n",
       "      <td>Braund, Mr. Owen Harris</td>\n",
       "      <td>male</td>\n",
       "      <td>22.0</td>\n",
       "      <td>1</td>\n",
       "      <td>0</td>\n",
       "      <td>A/5 21171</td>\n",
       "      <td>7.2500</td>\n",
       "      <td>NaN</td>\n",
       "      <td>S</td>\n",
       "    </tr>\n",
       "    <tr>\n",
       "      <th>1</th>\n",
       "      <td>2</td>\n",
       "      <td>1</td>\n",
       "      <td>1</td>\n",
       "      <td>Cumings, Mrs. John Bradley (Florence Briggs Th...</td>\n",
       "      <td>female</td>\n",
       "      <td>38.0</td>\n",
       "      <td>1</td>\n",
       "      <td>0</td>\n",
       "      <td>PC 17599</td>\n",
       "      <td>71.2833</td>\n",
       "      <td>C85</td>\n",
       "      <td>C</td>\n",
       "    </tr>\n",
       "    <tr>\n",
       "      <th>2</th>\n",
       "      <td>3</td>\n",
       "      <td>1</td>\n",
       "      <td>3</td>\n",
       "      <td>Heikkinen, Miss. Laina</td>\n",
       "      <td>female</td>\n",
       "      <td>26.0</td>\n",
       "      <td>0</td>\n",
       "      <td>0</td>\n",
       "      <td>STON/O2. 3101282</td>\n",
       "      <td>7.9250</td>\n",
       "      <td>NaN</td>\n",
       "      <td>S</td>\n",
       "    </tr>\n",
       "    <tr>\n",
       "      <th>3</th>\n",
       "      <td>4</td>\n",
       "      <td>1</td>\n",
       "      <td>1</td>\n",
       "      <td>Futrelle, Mrs. Jacques Heath (Lily May Peel)</td>\n",
       "      <td>female</td>\n",
       "      <td>35.0</td>\n",
       "      <td>1</td>\n",
       "      <td>0</td>\n",
       "      <td>113803</td>\n",
       "      <td>53.1000</td>\n",
       "      <td>C123</td>\n",
       "      <td>S</td>\n",
       "    </tr>\n",
       "    <tr>\n",
       "      <th>4</th>\n",
       "      <td>5</td>\n",
       "      <td>0</td>\n",
       "      <td>3</td>\n",
       "      <td>Allen, Mr. William Henry</td>\n",
       "      <td>male</td>\n",
       "      <td>35.0</td>\n",
       "      <td>0</td>\n",
       "      <td>0</td>\n",
       "      <td>373450</td>\n",
       "      <td>8.0500</td>\n",
       "      <td>NaN</td>\n",
       "      <td>S</td>\n",
       "    </tr>\n",
       "  </tbody>\n",
       "</table>\n",
       "</div>"
      ],
      "text/plain": [
       "   PassengerId  Survived  Pclass  \\\n",
       "0            1         0       3   \n",
       "1            2         1       1   \n",
       "2            3         1       3   \n",
       "3            4         1       1   \n",
       "4            5         0       3   \n",
       "\n",
       "                                                Name     Sex   Age  SibSp  \\\n",
       "0                            Braund, Mr. Owen Harris    male  22.0      1   \n",
       "1  Cumings, Mrs. John Bradley (Florence Briggs Th...  female  38.0      1   \n",
       "2                             Heikkinen, Miss. Laina  female  26.0      0   \n",
       "3       Futrelle, Mrs. Jacques Heath (Lily May Peel)  female  35.0      1   \n",
       "4                           Allen, Mr. William Henry    male  35.0      0   \n",
       "\n",
       "   Parch            Ticket     Fare Cabin Embarked  \n",
       "0      0         A/5 21171   7.2500   NaN        S  \n",
       "1      0          PC 17599  71.2833   C85        C  \n",
       "2      0  STON/O2. 3101282   7.9250   NaN        S  \n",
       "3      0            113803  53.1000  C123        S  \n",
       "4      0            373450   8.0500   NaN        S  "
      ]
     },
     "execution_count": 3,
     "metadata": {},
     "output_type": "execute_result"
    }
   ],
   "source": [
    "# preview the data\n",
    "train_df.head()"
   ]
  },
  {
   "cell_type": "markdown",
   "id": "4cd49501",
   "metadata": {
    "papermill": {
     "duration": 0.00702,
     "end_time": "2023-03-24T23:04:49.964706",
     "exception": false,
     "start_time": "2023-03-24T23:04:49.957686",
     "status": "completed"
    },
    "tags": []
   },
   "source": [
    "**1. Pclass**\n",
    "\n",
    "There is no missing value in this feature and we can observe significant correlation between the Pclass and the Survived, so we should include the Pclass feature in our model."
   ]
  },
  {
   "cell_type": "code",
   "execution_count": 4,
   "id": "1fef064e",
   "metadata": {
    "execution": {
     "iopub.execute_input": "2023-03-24T23:04:49.981793Z",
     "iopub.status.busy": "2023-03-24T23:04:49.980673Z",
     "iopub.status.idle": "2023-03-24T23:04:49.995416Z",
     "shell.execute_reply": "2023-03-24T23:04:49.994527Z"
    },
    "papermill": {
     "duration": 0.025776,
     "end_time": "2023-03-24T23:04:49.997966",
     "exception": false,
     "start_time": "2023-03-24T23:04:49.972190",
     "status": "completed"
    },
    "tags": []
   },
   "outputs": [
    {
     "data": {
      "text/html": [
       "<div>\n",
       "<style scoped>\n",
       "    .dataframe tbody tr th:only-of-type {\n",
       "        vertical-align: middle;\n",
       "    }\n",
       "\n",
       "    .dataframe tbody tr th {\n",
       "        vertical-align: top;\n",
       "    }\n",
       "\n",
       "    .dataframe thead th {\n",
       "        text-align: right;\n",
       "    }\n",
       "</style>\n",
       "<table border=\"1\" class=\"dataframe\">\n",
       "  <thead>\n",
       "    <tr style=\"text-align: right;\">\n",
       "      <th></th>\n",
       "      <th>Pclass</th>\n",
       "      <th>Survived</th>\n",
       "    </tr>\n",
       "  </thead>\n",
       "  <tbody>\n",
       "    <tr>\n",
       "      <th>0</th>\n",
       "      <td>1</td>\n",
       "      <td>0.629630</td>\n",
       "    </tr>\n",
       "    <tr>\n",
       "      <th>1</th>\n",
       "      <td>2</td>\n",
       "      <td>0.472826</td>\n",
       "    </tr>\n",
       "    <tr>\n",
       "      <th>2</th>\n",
       "      <td>3</td>\n",
       "      <td>0.242363</td>\n",
       "    </tr>\n",
       "  </tbody>\n",
       "</table>\n",
       "</div>"
      ],
      "text/plain": [
       "   Pclass  Survived\n",
       "0       1  0.629630\n",
       "1       2  0.472826\n",
       "2       3  0.242363"
      ]
     },
     "execution_count": 4,
     "metadata": {},
     "output_type": "execute_result"
    }
   ],
   "source": [
    "train_df[['Pclass', 'Survived']].groupby(['Pclass'], as_index=False).mean()"
   ]
  },
  {
   "cell_type": "markdown",
   "id": "1bbf78cc",
   "metadata": {
    "papermill": {
     "duration": 0.008394,
     "end_time": "2023-03-24T23:04:50.013762",
     "exception": false,
     "start_time": "2023-03-24T23:04:50.005368",
     "status": "completed"
    },
    "tags": []
   },
   "source": [
    "**2. Name**\n",
    "\n",
    "Names are unique and may not directly contribute to the Survival, but the different titles in the names may be classified and checked on the correlation with the survival rate."
   ]
  },
  {
   "cell_type": "code",
   "execution_count": 5,
   "id": "cf157236",
   "metadata": {
    "execution": {
     "iopub.execute_input": "2023-03-24T23:04:50.030723Z",
     "iopub.status.busy": "2023-03-24T23:04:50.030187Z",
     "iopub.status.idle": "2023-03-24T23:04:50.063675Z",
     "shell.execute_reply": "2023-03-24T23:04:50.062337Z"
    },
    "papermill": {
     "duration": 0.04558,
     "end_time": "2023-03-24T23:04:50.066728",
     "exception": false,
     "start_time": "2023-03-24T23:04:50.021148",
     "status": "completed"
    },
    "tags": []
   },
   "outputs": [
    {
     "data": {
      "text/html": [
       "<div>\n",
       "<style scoped>\n",
       "    .dataframe tbody tr th:only-of-type {\n",
       "        vertical-align: middle;\n",
       "    }\n",
       "\n",
       "    .dataframe tbody tr th {\n",
       "        vertical-align: top;\n",
       "    }\n",
       "\n",
       "    .dataframe thead th {\n",
       "        text-align: right;\n",
       "    }\n",
       "</style>\n",
       "<table border=\"1\" class=\"dataframe\">\n",
       "  <thead>\n",
       "    <tr style=\"text-align: right;\">\n",
       "      <th>Sex</th>\n",
       "      <th>female</th>\n",
       "      <th>male</th>\n",
       "    </tr>\n",
       "    <tr>\n",
       "      <th>Title</th>\n",
       "      <th></th>\n",
       "      <th></th>\n",
       "    </tr>\n",
       "  </thead>\n",
       "  <tbody>\n",
       "    <tr>\n",
       "      <th>Capt</th>\n",
       "      <td>0</td>\n",
       "      <td>1</td>\n",
       "    </tr>\n",
       "    <tr>\n",
       "      <th>Col</th>\n",
       "      <td>0</td>\n",
       "      <td>2</td>\n",
       "    </tr>\n",
       "    <tr>\n",
       "      <th>Countess</th>\n",
       "      <td>1</td>\n",
       "      <td>0</td>\n",
       "    </tr>\n",
       "    <tr>\n",
       "      <th>Don</th>\n",
       "      <td>0</td>\n",
       "      <td>1</td>\n",
       "    </tr>\n",
       "    <tr>\n",
       "      <th>Dr</th>\n",
       "      <td>1</td>\n",
       "      <td>6</td>\n",
       "    </tr>\n",
       "    <tr>\n",
       "      <th>Jonkheer</th>\n",
       "      <td>0</td>\n",
       "      <td>1</td>\n",
       "    </tr>\n",
       "    <tr>\n",
       "      <th>Lady</th>\n",
       "      <td>1</td>\n",
       "      <td>0</td>\n",
       "    </tr>\n",
       "    <tr>\n",
       "      <th>Major</th>\n",
       "      <td>0</td>\n",
       "      <td>2</td>\n",
       "    </tr>\n",
       "    <tr>\n",
       "      <th>Master</th>\n",
       "      <td>0</td>\n",
       "      <td>40</td>\n",
       "    </tr>\n",
       "    <tr>\n",
       "      <th>Miss</th>\n",
       "      <td>182</td>\n",
       "      <td>0</td>\n",
       "    </tr>\n",
       "    <tr>\n",
       "      <th>Mlle</th>\n",
       "      <td>2</td>\n",
       "      <td>0</td>\n",
       "    </tr>\n",
       "    <tr>\n",
       "      <th>Mme</th>\n",
       "      <td>1</td>\n",
       "      <td>0</td>\n",
       "    </tr>\n",
       "    <tr>\n",
       "      <th>Mr</th>\n",
       "      <td>0</td>\n",
       "      <td>517</td>\n",
       "    </tr>\n",
       "    <tr>\n",
       "      <th>Mrs</th>\n",
       "      <td>125</td>\n",
       "      <td>0</td>\n",
       "    </tr>\n",
       "    <tr>\n",
       "      <th>Ms</th>\n",
       "      <td>1</td>\n",
       "      <td>0</td>\n",
       "    </tr>\n",
       "    <tr>\n",
       "      <th>Rev</th>\n",
       "      <td>0</td>\n",
       "      <td>6</td>\n",
       "    </tr>\n",
       "    <tr>\n",
       "      <th>Sir</th>\n",
       "      <td>0</td>\n",
       "      <td>1</td>\n",
       "    </tr>\n",
       "  </tbody>\n",
       "</table>\n",
       "</div>"
      ],
      "text/plain": [
       "Sex       female  male\n",
       "Title                 \n",
       "Capt           0     1\n",
       "Col            0     2\n",
       "Countess       1     0\n",
       "Don            0     1\n",
       "Dr             1     6\n",
       "Jonkheer       0     1\n",
       "Lady           1     0\n",
       "Major          0     2\n",
       "Master         0    40\n",
       "Miss         182     0\n",
       "Mlle           2     0\n",
       "Mme            1     0\n",
       "Mr             0   517\n",
       "Mrs          125     0\n",
       "Ms             1     0\n",
       "Rev            0     6\n",
       "Sir            0     1"
      ]
     },
     "execution_count": 5,
     "metadata": {},
     "output_type": "execute_result"
    }
   ],
   "source": [
    "# extract title from name\n",
    "for dataset in full_data:\n",
    "    dataset['Title'] = dataset.Name.str.extract('([A-Za-z]+)\\.', expand=False)\n",
    "\n",
    "pd.crosstab(train_df['Title'], train_df['Sex'])"
   ]
  },
  {
   "cell_type": "code",
   "execution_count": 6,
   "id": "d445188f",
   "metadata": {
    "execution": {
     "iopub.execute_input": "2023-03-24T23:04:50.084719Z",
     "iopub.status.busy": "2023-03-24T23:04:50.083791Z",
     "iopub.status.idle": "2023-03-24T23:04:50.107984Z",
     "shell.execute_reply": "2023-03-24T23:04:50.106950Z"
    },
    "papermill": {
     "duration": 0.035976,
     "end_time": "2023-03-24T23:04:50.110644",
     "exception": false,
     "start_time": "2023-03-24T23:04:50.074668",
     "status": "completed"
    },
    "tags": []
   },
   "outputs": [
    {
     "data": {
      "text/html": [
       "<div>\n",
       "<style scoped>\n",
       "    .dataframe tbody tr th:only-of-type {\n",
       "        vertical-align: middle;\n",
       "    }\n",
       "\n",
       "    .dataframe tbody tr th {\n",
       "        vertical-align: top;\n",
       "    }\n",
       "\n",
       "    .dataframe thead th {\n",
       "        text-align: right;\n",
       "    }\n",
       "</style>\n",
       "<table border=\"1\" class=\"dataframe\">\n",
       "  <thead>\n",
       "    <tr style=\"text-align: right;\">\n",
       "      <th></th>\n",
       "      <th>Title</th>\n",
       "      <th>Survived</th>\n",
       "    </tr>\n",
       "  </thead>\n",
       "  <tbody>\n",
       "    <tr>\n",
       "      <th>0</th>\n",
       "      <td>Master</td>\n",
       "      <td>0.575000</td>\n",
       "    </tr>\n",
       "    <tr>\n",
       "      <th>1</th>\n",
       "      <td>Miss</td>\n",
       "      <td>0.702703</td>\n",
       "    </tr>\n",
       "    <tr>\n",
       "      <th>2</th>\n",
       "      <td>Mr</td>\n",
       "      <td>0.156673</td>\n",
       "    </tr>\n",
       "    <tr>\n",
       "      <th>3</th>\n",
       "      <td>Mrs</td>\n",
       "      <td>0.793651</td>\n",
       "    </tr>\n",
       "    <tr>\n",
       "      <th>4</th>\n",
       "      <td>Rare</td>\n",
       "      <td>0.347826</td>\n",
       "    </tr>\n",
       "  </tbody>\n",
       "</table>\n",
       "</div>"
      ],
      "text/plain": [
       "    Title  Survived\n",
       "0  Master  0.575000\n",
       "1    Miss  0.702703\n",
       "2      Mr  0.156673\n",
       "3     Mrs  0.793651\n",
       "4    Rare  0.347826"
      ]
     },
     "execution_count": 6,
     "metadata": {},
     "output_type": "execute_result"
    }
   ],
   "source": [
    "# classify the titles and check the correlation with survival rate\n",
    "for dataset in full_data:\n",
    "    dataset['Title'] = dataset['Title'].replace(['Capt', 'Col', 'Countess', 'Don', 'Dr', 'Jonkheer', 'Lady', 'Major', 'Rev', 'Sir'], 'Rare')\n",
    "    dataset['Title'] = dataset['Title'].replace('Mlle', 'Miss')\n",
    "    dataset['Title'] = dataset['Title'].replace('Ms', 'Miss')\n",
    "    dataset['Title'] = dataset['Title'].replace('Mme', 'Mrs')\n",
    "    \n",
    "train_df[['Title', 'Survived']].groupby(['Title'], as_index=False).mean()"
   ]
  },
  {
   "cell_type": "markdown",
   "id": "08000e1e",
   "metadata": {
    "papermill": {
     "duration": 0.007609,
     "end_time": "2023-03-24T23:04:50.126206",
     "exception": false,
     "start_time": "2023-03-24T23:04:50.118597",
     "status": "completed"
    },
    "tags": []
   },
   "source": [
    "**3. Sex**\n",
    "\n",
    "The number of males is much more than the number of females both in the train data and the test data, but it can be confirmed that females have very high survival rate."
   ]
  },
  {
   "cell_type": "code",
   "execution_count": 7,
   "id": "00c43bf2",
   "metadata": {
    "execution": {
     "iopub.execute_input": "2023-03-24T23:04:50.145115Z",
     "iopub.status.busy": "2023-03-24T23:04:50.144387Z",
     "iopub.status.idle": "2023-03-24T23:04:50.158480Z",
     "shell.execute_reply": "2023-03-24T23:04:50.157325Z"
    },
    "papermill": {
     "duration": 0.026606,
     "end_time": "2023-03-24T23:04:50.161155",
     "exception": false,
     "start_time": "2023-03-24T23:04:50.134549",
     "status": "completed"
    },
    "tags": []
   },
   "outputs": [
    {
     "data": {
      "text/html": [
       "<div>\n",
       "<style scoped>\n",
       "    .dataframe tbody tr th:only-of-type {\n",
       "        vertical-align: middle;\n",
       "    }\n",
       "\n",
       "    .dataframe tbody tr th {\n",
       "        vertical-align: top;\n",
       "    }\n",
       "\n",
       "    .dataframe thead th {\n",
       "        text-align: right;\n",
       "    }\n",
       "</style>\n",
       "<table border=\"1\" class=\"dataframe\">\n",
       "  <thead>\n",
       "    <tr style=\"text-align: right;\">\n",
       "      <th></th>\n",
       "      <th>Sex</th>\n",
       "      <th>Survived</th>\n",
       "    </tr>\n",
       "  </thead>\n",
       "  <tbody>\n",
       "    <tr>\n",
       "      <th>0</th>\n",
       "      <td>female</td>\n",
       "      <td>0.742038</td>\n",
       "    </tr>\n",
       "    <tr>\n",
       "      <th>1</th>\n",
       "      <td>male</td>\n",
       "      <td>0.188908</td>\n",
       "    </tr>\n",
       "  </tbody>\n",
       "</table>\n",
       "</div>"
      ],
      "text/plain": [
       "      Sex  Survived\n",
       "0  female  0.742038\n",
       "1    male  0.188908"
      ]
     },
     "execution_count": 7,
     "metadata": {},
     "output_type": "execute_result"
    }
   ],
   "source": [
    "train_df[['Sex', 'Survived']].groupby(['Sex'], as_index=False).mean()"
   ]
  },
  {
   "cell_type": "markdown",
   "id": "58790d81",
   "metadata": {
    "papermill": {
     "duration": 0.007498,
     "end_time": "2023-03-24T23:04:50.176824",
     "exception": false,
     "start_time": "2023-03-24T23:04:50.169326",
     "status": "completed"
    },
    "tags": []
   },
   "source": [
    "**4. Age**\n",
    "\n",
    "There are about 20% missing values in the Age data, so we may generate random data ranged between (mean-std) and (mean+std), then try to categorize the Age into 4 ranges and check the survival rate of each range in the train data."
   ]
  },
  {
   "cell_type": "code",
   "execution_count": 8,
   "id": "eea33460",
   "metadata": {
    "execution": {
     "iopub.execute_input": "2023-03-24T23:04:50.195321Z",
     "iopub.status.busy": "2023-03-24T23:04:50.194610Z",
     "iopub.status.idle": "2023-03-24T23:04:50.231019Z",
     "shell.execute_reply": "2023-03-24T23:04:50.229551Z"
    },
    "papermill": {
     "duration": 0.048696,
     "end_time": "2023-03-24T23:04:50.233700",
     "exception": false,
     "start_time": "2023-03-24T23:04:50.185004",
     "status": "completed"
    },
    "tags": []
   },
   "outputs": [
    {
     "name": "stderr",
     "output_type": "stream",
     "text": [
      "/opt/conda/lib/python3.7/site-packages/ipykernel_launcher.py:7: SettingWithCopyWarning: \n",
      "A value is trying to be set on a copy of a slice from a DataFrame\n",
      "\n",
      "See the caveats in the documentation: https://pandas.pydata.org/pandas-docs/stable/user_guide/indexing.html#returning-a-view-versus-a-copy\n",
      "  import sys\n"
     ]
    },
    {
     "data": {
      "text/html": [
       "<div>\n",
       "<style scoped>\n",
       "    .dataframe tbody tr th:only-of-type {\n",
       "        vertical-align: middle;\n",
       "    }\n",
       "\n",
       "    .dataframe tbody tr th {\n",
       "        vertical-align: top;\n",
       "    }\n",
       "\n",
       "    .dataframe thead th {\n",
       "        text-align: right;\n",
       "    }\n",
       "</style>\n",
       "<table border=\"1\" class=\"dataframe\">\n",
       "  <thead>\n",
       "    <tr style=\"text-align: right;\">\n",
       "      <th></th>\n",
       "      <th>Age_range</th>\n",
       "      <th>Survived</th>\n",
       "    </tr>\n",
       "  </thead>\n",
       "  <tbody>\n",
       "    <tr>\n",
       "      <th>0</th>\n",
       "      <td>(-0.08, 20.0]</td>\n",
       "      <td>0.423963</td>\n",
       "    </tr>\n",
       "    <tr>\n",
       "      <th>1</th>\n",
       "      <td>(20.0, 40.0]</td>\n",
       "      <td>0.369352</td>\n",
       "    </tr>\n",
       "    <tr>\n",
       "      <th>2</th>\n",
       "      <td>(40.0, 60.0]</td>\n",
       "      <td>0.398601</td>\n",
       "    </tr>\n",
       "    <tr>\n",
       "      <th>3</th>\n",
       "      <td>(60.0, 80.0]</td>\n",
       "      <td>0.227273</td>\n",
       "    </tr>\n",
       "  </tbody>\n",
       "</table>\n",
       "</div>"
      ],
      "text/plain": [
       "       Age_range  Survived\n",
       "0  (-0.08, 20.0]  0.423963\n",
       "1   (20.0, 40.0]  0.369352\n",
       "2   (40.0, 60.0]  0.398601\n",
       "3   (60.0, 80.0]  0.227273"
      ]
     },
     "execution_count": 8,
     "metadata": {},
     "output_type": "execute_result"
    }
   ],
   "source": [
    "for dataset in full_data:\n",
    "    age_avg = dataset['Age'].mean()\n",
    "    age_std = dataset['Age'].std()\n",
    "    age_null_count = dataset['Age'].isnull().sum()\n",
    "    \n",
    "    age_null_random_list = np.random.randint(age_avg - age_std, age_avg + age_std, size=age_null_count)\n",
    "    dataset['Age'][np.isnan(dataset['Age'])] = age_null_random_list\n",
    "    dataset['Age'] = dataset['Age'].astype(int)\n",
    "    \n",
    "train_df['Age_range'] = pd.cut(train_df['Age'], 4)\n",
    "train_df[['Age_range', 'Survived']].groupby(['Age_range'], as_index=False).mean()"
   ]
  },
  {
   "cell_type": "markdown",
   "id": "bc356233",
   "metadata": {
    "papermill": {
     "duration": 0.007762,
     "end_time": "2023-03-24T23:04:50.249563",
     "exception": false,
     "start_time": "2023-03-24T23:04:50.241801",
     "status": "completed"
    },
    "tags": []
   },
   "source": [
    "**5. SibSp and Parch**\n",
    "\n",
    "Based on the SibSp which indicates the number of Siblings/Spouses aboard and the Parch which indicates the number of Parents/Children aboard, we can create a new feature called FamilySize which combines the SibSp and the Parch."
   ]
  },
  {
   "cell_type": "code",
   "execution_count": 9,
   "id": "46360cd8",
   "metadata": {
    "execution": {
     "iopub.execute_input": "2023-03-24T23:04:50.267106Z",
     "iopub.status.busy": "2023-03-24T23:04:50.266723Z",
     "iopub.status.idle": "2023-03-24T23:04:50.283200Z",
     "shell.execute_reply": "2023-03-24T23:04:50.282107Z"
    },
    "papermill": {
     "duration": 0.027944,
     "end_time": "2023-03-24T23:04:50.285448",
     "exception": false,
     "start_time": "2023-03-24T23:04:50.257504",
     "status": "completed"
    },
    "tags": []
   },
   "outputs": [
    {
     "data": {
      "text/html": [
       "<div>\n",
       "<style scoped>\n",
       "    .dataframe tbody tr th:only-of-type {\n",
       "        vertical-align: middle;\n",
       "    }\n",
       "\n",
       "    .dataframe tbody tr th {\n",
       "        vertical-align: top;\n",
       "    }\n",
       "\n",
       "    .dataframe thead th {\n",
       "        text-align: right;\n",
       "    }\n",
       "</style>\n",
       "<table border=\"1\" class=\"dataframe\">\n",
       "  <thead>\n",
       "    <tr style=\"text-align: right;\">\n",
       "      <th></th>\n",
       "      <th>FamilySize</th>\n",
       "      <th>Survived</th>\n",
       "    </tr>\n",
       "  </thead>\n",
       "  <tbody>\n",
       "    <tr>\n",
       "      <th>0</th>\n",
       "      <td>1</td>\n",
       "      <td>0.303538</td>\n",
       "    </tr>\n",
       "    <tr>\n",
       "      <th>1</th>\n",
       "      <td>2</td>\n",
       "      <td>0.552795</td>\n",
       "    </tr>\n",
       "    <tr>\n",
       "      <th>2</th>\n",
       "      <td>3</td>\n",
       "      <td>0.578431</td>\n",
       "    </tr>\n",
       "    <tr>\n",
       "      <th>3</th>\n",
       "      <td>4</td>\n",
       "      <td>0.724138</td>\n",
       "    </tr>\n",
       "    <tr>\n",
       "      <th>4</th>\n",
       "      <td>5</td>\n",
       "      <td>0.200000</td>\n",
       "    </tr>\n",
       "    <tr>\n",
       "      <th>5</th>\n",
       "      <td>6</td>\n",
       "      <td>0.136364</td>\n",
       "    </tr>\n",
       "    <tr>\n",
       "      <th>6</th>\n",
       "      <td>7</td>\n",
       "      <td>0.333333</td>\n",
       "    </tr>\n",
       "    <tr>\n",
       "      <th>7</th>\n",
       "      <td>8</td>\n",
       "      <td>0.000000</td>\n",
       "    </tr>\n",
       "    <tr>\n",
       "      <th>8</th>\n",
       "      <td>11</td>\n",
       "      <td>0.000000</td>\n",
       "    </tr>\n",
       "  </tbody>\n",
       "</table>\n",
       "</div>"
      ],
      "text/plain": [
       "   FamilySize  Survived\n",
       "0           1  0.303538\n",
       "1           2  0.552795\n",
       "2           3  0.578431\n",
       "3           4  0.724138\n",
       "4           5  0.200000\n",
       "5           6  0.136364\n",
       "6           7  0.333333\n",
       "7           8  0.000000\n",
       "8          11  0.000000"
      ]
     },
     "execution_count": 9,
     "metadata": {},
     "output_type": "execute_result"
    }
   ],
   "source": [
    "for dataset in full_data:\n",
    "    dataset['FamilySize'] = dataset['SibSp'] + dataset['Parch'] + 1\n",
    "\n",
    "train_df[['FamilySize', 'Survived']].groupby(['FamilySize'], as_index=False).mean()"
   ]
  },
  {
   "cell_type": "markdown",
   "id": "cf39b4a5",
   "metadata": {
    "papermill": {
     "duration": 0.008188,
     "end_time": "2023-03-24T23:04:50.301989",
     "exception": false,
     "start_time": "2023-03-24T23:04:50.293801",
     "status": "completed"
    },
    "tags": []
   },
   "source": [
    "We may try to create another feature called IsAlone and check the corresponding survival rate."
   ]
  },
  {
   "cell_type": "code",
   "execution_count": 10,
   "id": "c9a4f869",
   "metadata": {
    "execution": {
     "iopub.execute_input": "2023-03-24T23:04:50.320690Z",
     "iopub.status.busy": "2023-03-24T23:04:50.319686Z",
     "iopub.status.idle": "2023-03-24T23:04:50.335847Z",
     "shell.execute_reply": "2023-03-24T23:04:50.334674Z"
    },
    "papermill": {
     "duration": 0.028073,
     "end_time": "2023-03-24T23:04:50.338274",
     "exception": false,
     "start_time": "2023-03-24T23:04:50.310201",
     "status": "completed"
    },
    "tags": []
   },
   "outputs": [
    {
     "data": {
      "text/html": [
       "<div>\n",
       "<style scoped>\n",
       "    .dataframe tbody tr th:only-of-type {\n",
       "        vertical-align: middle;\n",
       "    }\n",
       "\n",
       "    .dataframe tbody tr th {\n",
       "        vertical-align: top;\n",
       "    }\n",
       "\n",
       "    .dataframe thead th {\n",
       "        text-align: right;\n",
       "    }\n",
       "</style>\n",
       "<table border=\"1\" class=\"dataframe\">\n",
       "  <thead>\n",
       "    <tr style=\"text-align: right;\">\n",
       "      <th></th>\n",
       "      <th>IsAlone</th>\n",
       "      <th>Survived</th>\n",
       "    </tr>\n",
       "  </thead>\n",
       "  <tbody>\n",
       "    <tr>\n",
       "      <th>0</th>\n",
       "      <td>0</td>\n",
       "      <td>0.505650</td>\n",
       "    </tr>\n",
       "    <tr>\n",
       "      <th>1</th>\n",
       "      <td>1</td>\n",
       "      <td>0.303538</td>\n",
       "    </tr>\n",
       "  </tbody>\n",
       "</table>\n",
       "</div>"
      ],
      "text/plain": [
       "   IsAlone  Survived\n",
       "0        0  0.505650\n",
       "1        1  0.303538"
      ]
     },
     "execution_count": 10,
     "metadata": {},
     "output_type": "execute_result"
    }
   ],
   "source": [
    "for dataset in full_data:\n",
    "    dataset['IsAlone'] = 0\n",
    "    dataset.loc[dataset['FamilySize'] == 1, 'IsAlone'] = 1\n",
    "    \n",
    "train_df[['IsAlone', 'Survived']].groupby(['IsAlone'], as_index=False).mean()"
   ]
  },
  {
   "cell_type": "markdown",
   "id": "84cfe42d",
   "metadata": {
    "papermill": {
     "duration": 0.008105,
     "end_time": "2023-03-24T23:04:50.354927",
     "exception": false,
     "start_time": "2023-03-24T23:04:50.346822",
     "status": "completed"
    },
    "tags": []
   },
   "source": [
    "**6. Ticket**\n",
    "\n",
    "Ticket has high ratio of duplicates and is little correlated with the survival rate, so it may be not included in our analysis."
   ]
  },
  {
   "cell_type": "markdown",
   "id": "8c06c13f",
   "metadata": {
    "papermill": {
     "duration": 0.008223,
     "end_time": "2023-03-24T23:04:50.371578",
     "exception": false,
     "start_time": "2023-03-24T23:04:50.363355",
     "status": "completed"
    },
    "tags": []
   },
   "source": [
    "**7. Fare**\n",
    "\n",
    "As Fare has one missing value in the test data, first we try to generate a median number to replace the missing one, then categorize the ticket data in the train data into 4 ranges to check the survival rate."
   ]
  },
  {
   "cell_type": "code",
   "execution_count": 11,
   "id": "5532f767",
   "metadata": {
    "execution": {
     "iopub.execute_input": "2023-03-24T23:04:50.390162Z",
     "iopub.status.busy": "2023-03-24T23:04:50.389736Z",
     "iopub.status.idle": "2023-03-24T23:04:50.408903Z",
     "shell.execute_reply": "2023-03-24T23:04:50.407706Z"
    },
    "papermill": {
     "duration": 0.031651,
     "end_time": "2023-03-24T23:04:50.411579",
     "exception": false,
     "start_time": "2023-03-24T23:04:50.379928",
     "status": "completed"
    },
    "tags": []
   },
   "outputs": [
    {
     "data": {
      "text/html": [
       "<div>\n",
       "<style scoped>\n",
       "    .dataframe tbody tr th:only-of-type {\n",
       "        vertical-align: middle;\n",
       "    }\n",
       "\n",
       "    .dataframe tbody tr th {\n",
       "        vertical-align: top;\n",
       "    }\n",
       "\n",
       "    .dataframe thead th {\n",
       "        text-align: right;\n",
       "    }\n",
       "</style>\n",
       "<table border=\"1\" class=\"dataframe\">\n",
       "  <thead>\n",
       "    <tr style=\"text-align: right;\">\n",
       "      <th></th>\n",
       "      <th>Fare_range</th>\n",
       "      <th>Survived</th>\n",
       "    </tr>\n",
       "  </thead>\n",
       "  <tbody>\n",
       "    <tr>\n",
       "      <th>0</th>\n",
       "      <td>(-0.001, 7.91]</td>\n",
       "      <td>0.197309</td>\n",
       "    </tr>\n",
       "    <tr>\n",
       "      <th>1</th>\n",
       "      <td>(7.91, 14.454]</td>\n",
       "      <td>0.303571</td>\n",
       "    </tr>\n",
       "    <tr>\n",
       "      <th>2</th>\n",
       "      <td>(14.454, 31.0]</td>\n",
       "      <td>0.454955</td>\n",
       "    </tr>\n",
       "    <tr>\n",
       "      <th>3</th>\n",
       "      <td>(31.0, 512.329]</td>\n",
       "      <td>0.581081</td>\n",
       "    </tr>\n",
       "  </tbody>\n",
       "</table>\n",
       "</div>"
      ],
      "text/plain": [
       "        Fare_range  Survived\n",
       "0   (-0.001, 7.91]  0.197309\n",
       "1   (7.91, 14.454]  0.303571\n",
       "2   (14.454, 31.0]  0.454955\n",
       "3  (31.0, 512.329]  0.581081"
      ]
     },
     "execution_count": 11,
     "metadata": {},
     "output_type": "execute_result"
    }
   ],
   "source": [
    "test_df['Fare'].fillna(test_df['Fare'].dropna().median(), inplace=True)\n",
    "\n",
    "train_df['Fare_range'] = pd.qcut(train_df['Fare'], 4)\n",
    "train_df[['Fare_range', 'Survived']].groupby(['Fare_range'], as_index=False).mean()"
   ]
  },
  {
   "cell_type": "markdown",
   "id": "812b978f",
   "metadata": {
    "papermill": {
     "duration": 0.008615,
     "end_time": "2023-03-24T23:04:50.429111",
     "exception": false,
     "start_time": "2023-03-24T23:04:50.420496",
     "status": "completed"
    },
    "tags": []
   },
   "source": [
    "**8. Cabin**\n",
    "\n",
    "As Cabin feature has more than 70% missing values both in train data and test data, and one cabin is shared by many passengers, it is considered to be excluded from our analysis."
   ]
  },
  {
   "cell_type": "markdown",
   "id": "38fc58dd",
   "metadata": {
    "papermill": {
     "duration": 0.008739,
     "end_time": "2023-03-24T23:04:50.446574",
     "exception": false,
     "start_time": "2023-03-24T23:04:50.437835",
     "status": "completed"
    },
    "tags": []
   },
   "source": [
    "**9. Embarked**\n",
    "\n",
    "Embarked feature takes S, C, Q values based on port of embarkation. It has 2% missing values in the train data, and we can try to fill the missing values with the most occurred value S (72% and 65% in train data and test data respectively)."
   ]
  },
  {
   "cell_type": "code",
   "execution_count": 12,
   "id": "92690a72",
   "metadata": {
    "execution": {
     "iopub.execute_input": "2023-03-24T23:04:50.466539Z",
     "iopub.status.busy": "2023-03-24T23:04:50.465393Z",
     "iopub.status.idle": "2023-03-24T23:04:50.482389Z",
     "shell.execute_reply": "2023-03-24T23:04:50.481228Z"
    },
    "papermill": {
     "duration": 0.029605,
     "end_time": "2023-03-24T23:04:50.484991",
     "exception": false,
     "start_time": "2023-03-24T23:04:50.455386",
     "status": "completed"
    },
    "tags": []
   },
   "outputs": [
    {
     "data": {
      "text/html": [
       "<div>\n",
       "<style scoped>\n",
       "    .dataframe tbody tr th:only-of-type {\n",
       "        vertical-align: middle;\n",
       "    }\n",
       "\n",
       "    .dataframe tbody tr th {\n",
       "        vertical-align: top;\n",
       "    }\n",
       "\n",
       "    .dataframe thead th {\n",
       "        text-align: right;\n",
       "    }\n",
       "</style>\n",
       "<table border=\"1\" class=\"dataframe\">\n",
       "  <thead>\n",
       "    <tr style=\"text-align: right;\">\n",
       "      <th></th>\n",
       "      <th>Embarked</th>\n",
       "      <th>Survived</th>\n",
       "    </tr>\n",
       "  </thead>\n",
       "  <tbody>\n",
       "    <tr>\n",
       "      <th>0</th>\n",
       "      <td>C</td>\n",
       "      <td>0.553571</td>\n",
       "    </tr>\n",
       "    <tr>\n",
       "      <th>1</th>\n",
       "      <td>Q</td>\n",
       "      <td>0.389610</td>\n",
       "    </tr>\n",
       "    <tr>\n",
       "      <th>2</th>\n",
       "      <td>S</td>\n",
       "      <td>0.339009</td>\n",
       "    </tr>\n",
       "  </tbody>\n",
       "</table>\n",
       "</div>"
      ],
      "text/plain": [
       "  Embarked  Survived\n",
       "0        C  0.553571\n",
       "1        Q  0.389610\n",
       "2        S  0.339009"
      ]
     },
     "execution_count": 12,
     "metadata": {},
     "output_type": "execute_result"
    }
   ],
   "source": [
    "for dataset in full_data:\n",
    "    dataset['Embarked'] = dataset['Embarked'].fillna('S')\n",
    "    \n",
    "train_df[['Embarked', 'Survived']].groupby(['Embarked'], as_index=False).mean()"
   ]
  },
  {
   "cell_type": "markdown",
   "id": "d4f7d439",
   "metadata": {
    "papermill": {
     "duration": 0.008752,
     "end_time": "2023-03-24T23:04:50.502751",
     "exception": false,
     "start_time": "2023-03-24T23:04:50.493999",
     "status": "completed"
    },
    "tags": []
   },
   "source": [
    "Now we try to covert categorical values into numerical values, and then drop unnecessary features."
   ]
  },
  {
   "cell_type": "code",
   "execution_count": 13,
   "id": "27e91501",
   "metadata": {
    "execution": {
     "iopub.execute_input": "2023-03-24T23:04:50.522627Z",
     "iopub.status.busy": "2023-03-24T23:04:50.522192Z",
     "iopub.status.idle": "2023-03-24T23:04:50.566277Z",
     "shell.execute_reply": "2023-03-24T23:04:50.565331Z"
    },
    "papermill": {
     "duration": 0.057072,
     "end_time": "2023-03-24T23:04:50.568702",
     "exception": false,
     "start_time": "2023-03-24T23:04:50.511630",
     "status": "completed"
    },
    "tags": []
   },
   "outputs": [
    {
     "data": {
      "text/html": [
       "<div>\n",
       "<style scoped>\n",
       "    .dataframe tbody tr th:only-of-type {\n",
       "        vertical-align: middle;\n",
       "    }\n",
       "\n",
       "    .dataframe tbody tr th {\n",
       "        vertical-align: top;\n",
       "    }\n",
       "\n",
       "    .dataframe thead th {\n",
       "        text-align: right;\n",
       "    }\n",
       "</style>\n",
       "<table border=\"1\" class=\"dataframe\">\n",
       "  <thead>\n",
       "    <tr style=\"text-align: right;\">\n",
       "      <th></th>\n",
       "      <th>Survived</th>\n",
       "      <th>Pclass</th>\n",
       "      <th>Sex</th>\n",
       "      <th>Age</th>\n",
       "      <th>Fare</th>\n",
       "      <th>Embarked</th>\n",
       "      <th>Title</th>\n",
       "      <th>IsAlone</th>\n",
       "    </tr>\n",
       "  </thead>\n",
       "  <tbody>\n",
       "    <tr>\n",
       "      <th>0</th>\n",
       "      <td>0</td>\n",
       "      <td>3</td>\n",
       "      <td>1</td>\n",
       "      <td>1</td>\n",
       "      <td>0.0</td>\n",
       "      <td>0</td>\n",
       "      <td>3</td>\n",
       "      <td>0</td>\n",
       "    </tr>\n",
       "    <tr>\n",
       "      <th>1</th>\n",
       "      <td>1</td>\n",
       "      <td>1</td>\n",
       "      <td>0</td>\n",
       "      <td>1</td>\n",
       "      <td>3.0</td>\n",
       "      <td>1</td>\n",
       "      <td>4</td>\n",
       "      <td>0</td>\n",
       "    </tr>\n",
       "    <tr>\n",
       "      <th>2</th>\n",
       "      <td>1</td>\n",
       "      <td>3</td>\n",
       "      <td>0</td>\n",
       "      <td>1</td>\n",
       "      <td>1.0</td>\n",
       "      <td>0</td>\n",
       "      <td>2</td>\n",
       "      <td>1</td>\n",
       "    </tr>\n",
       "    <tr>\n",
       "      <th>3</th>\n",
       "      <td>1</td>\n",
       "      <td>1</td>\n",
       "      <td>0</td>\n",
       "      <td>1</td>\n",
       "      <td>3.0</td>\n",
       "      <td>0</td>\n",
       "      <td>4</td>\n",
       "      <td>0</td>\n",
       "    </tr>\n",
       "    <tr>\n",
       "      <th>4</th>\n",
       "      <td>0</td>\n",
       "      <td>3</td>\n",
       "      <td>1</td>\n",
       "      <td>1</td>\n",
       "      <td>1.0</td>\n",
       "      <td>0</td>\n",
       "      <td>3</td>\n",
       "      <td>1</td>\n",
       "    </tr>\n",
       "  </tbody>\n",
       "</table>\n",
       "</div>"
      ],
      "text/plain": [
       "   Survived  Pclass  Sex  Age  Fare  Embarked  Title  IsAlone\n",
       "0         0       3    1    1   0.0         0      3        0\n",
       "1         1       1    0    1   3.0         1      4        0\n",
       "2         1       3    0    1   1.0         0      2        1\n",
       "3         1       1    0    1   3.0         0      4        0\n",
       "4         0       3    1    1   1.0         0      3        1"
      ]
     },
     "execution_count": 13,
     "metadata": {},
     "output_type": "execute_result"
    }
   ],
   "source": [
    "for dataset in full_data:\n",
    "    \n",
    "    # mapping Title\n",
    "    dataset['Title'] = dataset['Title'].map({\"Master\": 1, \"Miss\": 2, \"Mr\": 3, \"Mrs\": 4, \"Rare\": 5})\n",
    "    dataset['Title'] = dataset['Title'].fillna(0)\n",
    "    \n",
    "    # mapping Sex\n",
    "    dataset['Sex'] = dataset['Sex'].map({'female': 0, 'male': 1}).astype(int)\n",
    "    \n",
    "    # mapping Age\n",
    "    dataset.loc[dataset['Age'] <= 20, 'Age'] = 0\n",
    "    dataset.loc[(dataset['Age'] > 20) & (dataset['Age'] <= 40), 'Age'] = 1\n",
    "    dataset.loc[(dataset['Age'] > 40) & (dataset['Age'] <= 60), 'Age'] = 2\n",
    "    dataset.loc[dataset['Age'] > 60, 'Age'] = 3\n",
    "    \n",
    "    # mapping Fare\n",
    "    dataset.loc[dataset['Fare'] <= 7.91, 'Fare'] = 0\n",
    "    dataset.loc[(dataset['Fare'] > 7.91) & (dataset['Fare'] <= 14.454), 'Fare'] = 1\n",
    "    dataset.loc[(dataset['Fare'] > 14.454) & (dataset['Fare'] <= 31.0), 'Fare'] = 2\n",
    "    dataset.loc[dataset['Fare'] > 31.0, 'Fare'] = 3\n",
    "    \n",
    "    # mapping Embarked\n",
    "    dataset['Embarked'] = dataset['Embarked'].map({'S': 0, 'C': 1, 'Q': 2}).astype(int)\n",
    "    \n",
    "drop_list = ['Name', 'SibSp', 'Parch', 'FamilySize', 'Ticket', 'Cabin']\n",
    "train_df = train_df.drop(drop_list, axis = 1)\n",
    "train_df = train_df.drop(['PassengerId', 'Age_range', 'Fare_range'], axis = 1)\n",
    "\n",
    "test_df = test_df.drop(drop_list, axis = 1)\n",
    "\n",
    "train_df.head()"
   ]
  },
  {
   "cell_type": "markdown",
   "id": "e42cdcc9",
   "metadata": {
    "papermill": {
     "duration": 0.008686,
     "end_time": "2023-03-24T23:04:50.586398",
     "exception": false,
     "start_time": "2023-03-24T23:04:50.577712",
     "status": "completed"
    },
    "tags": []
   },
   "source": [
    "# **Model and prediction**"
   ]
  },
  {
   "cell_type": "markdown",
   "id": "6a1a4ce0",
   "metadata": {
    "papermill": {
     "duration": 0.008638,
     "end_time": "2023-03-24T23:04:50.604119",
     "exception": false,
     "start_time": "2023-03-24T23:04:50.595481",
     "status": "completed"
    },
    "tags": []
   },
   "source": [
    "Now we are ready to build and train a model to perform prediction. As we aim at identifying a relationship between multiple inputs (such as Pclass, Sex, Age...) and the output (i.e., survival), we'll try a few common used machine learning models such as Logistic Regression, SVM, Random Forest, KNN, and Decision Tree."
   ]
  },
  {
   "cell_type": "code",
   "execution_count": 14,
   "id": "fc0b0234",
   "metadata": {
    "execution": {
     "iopub.execute_input": "2023-03-24T23:04:50.624473Z",
     "iopub.status.busy": "2023-03-24T23:04:50.623684Z",
     "iopub.status.idle": "2023-03-24T23:04:52.125817Z",
     "shell.execute_reply": "2023-03-24T23:04:52.124542Z"
    },
    "papermill": {
     "duration": 1.515278,
     "end_time": "2023-03-24T23:04:52.128358",
     "exception": false,
     "start_time": "2023-03-24T23:04:50.613080",
     "status": "completed"
    },
    "tags": []
   },
   "outputs": [
    {
     "data": {
      "text/plain": [
       "((891, 7), (891,), (418, 7))"
      ]
     },
     "execution_count": 14,
     "metadata": {},
     "output_type": "execute_result"
    }
   ],
   "source": [
    "# machine learning\n",
    "from sklearn.linear_model import LogisticRegression\n",
    "from sklearn.svm import SVC\n",
    "from sklearn.ensemble import RandomForestClassifier\n",
    "from sklearn.neighbors import KNeighborsClassifier\n",
    "from sklearn.tree import DecisionTreeClassifier\n",
    "\n",
    "# prepare train data and test data for model\n",
    "X_train = train_df.drop('Survived', axis = 1)\n",
    "Y_train = train_df['Survived']\n",
    "X_test = test_df.drop('PassengerId', axis = 1).copy()\n",
    "X_train.shape, Y_train.shape, X_test.shape"
   ]
  },
  {
   "cell_type": "code",
   "execution_count": 15,
   "id": "3b5b8efa",
   "metadata": {
    "execution": {
     "iopub.execute_input": "2023-03-24T23:04:52.149449Z",
     "iopub.status.busy": "2023-03-24T23:04:52.148487Z",
     "iopub.status.idle": "2023-03-24T23:04:52.541654Z",
     "shell.execute_reply": "2023-03-24T23:04:52.540337Z"
    },
    "papermill": {
     "duration": 0.406688,
     "end_time": "2023-03-24T23:04:52.544415",
     "exception": false,
     "start_time": "2023-03-24T23:04:52.137727",
     "status": "completed"
    },
    "tags": []
   },
   "outputs": [
    {
     "data": {
      "text/html": [
       "<div>\n",
       "<style scoped>\n",
       "    .dataframe tbody tr th:only-of-type {\n",
       "        vertical-align: middle;\n",
       "    }\n",
       "\n",
       "    .dataframe tbody tr th {\n",
       "        vertical-align: top;\n",
       "    }\n",
       "\n",
       "    .dataframe thead th {\n",
       "        text-align: right;\n",
       "    }\n",
       "</style>\n",
       "<table border=\"1\" class=\"dataframe\">\n",
       "  <thead>\n",
       "    <tr style=\"text-align: right;\">\n",
       "      <th></th>\n",
       "      <th>Model</th>\n",
       "      <th>Score</th>\n",
       "    </tr>\n",
       "  </thead>\n",
       "  <tbody>\n",
       "    <tr>\n",
       "      <th>2</th>\n",
       "      <td>Random Forest</td>\n",
       "      <td>87.09</td>\n",
       "    </tr>\n",
       "    <tr>\n",
       "      <th>4</th>\n",
       "      <td>Decision Tree</td>\n",
       "      <td>87.09</td>\n",
       "    </tr>\n",
       "    <tr>\n",
       "      <th>3</th>\n",
       "      <td>KNN</td>\n",
       "      <td>83.50</td>\n",
       "    </tr>\n",
       "    <tr>\n",
       "      <th>1</th>\n",
       "      <td>SVM</td>\n",
       "      <td>82.04</td>\n",
       "    </tr>\n",
       "    <tr>\n",
       "      <th>0</th>\n",
       "      <td>Logistic Regression</td>\n",
       "      <td>78.68</td>\n",
       "    </tr>\n",
       "  </tbody>\n",
       "</table>\n",
       "</div>"
      ],
      "text/plain": [
       "                 Model  Score\n",
       "2        Random Forest  87.09\n",
       "4        Decision Tree  87.09\n",
       "3                  KNN  83.50\n",
       "1                  SVM  82.04\n",
       "0  Logistic Regression  78.68"
      ]
     },
     "execution_count": 15,
     "metadata": {},
     "output_type": "execute_result"
    }
   ],
   "source": [
    "# Logistic Regression\n",
    "logreg = LogisticRegression()\n",
    "logreg.fit(X_train, Y_train)\n",
    "Y_pred_logreg = logreg.predict(X_test)\n",
    "acc_log = round(logreg.score(X_train, Y_train)*100, 2)\n",
    "\n",
    "# SVM\n",
    "svc = SVC()\n",
    "svc.fit(X_train, Y_train)\n",
    "Y_pred_svm = svc.predict(X_test)\n",
    "acc_svc = round(svc.score(X_train, Y_train)*100, 2)\n",
    "\n",
    "# Random Forest\n",
    "random_forest = RandomForestClassifier(n_estimators = 100)\n",
    "random_forest.fit(X_train, Y_train)\n",
    "Y_pred_random_forest = random_forest.predict(X_test)\n",
    "acc_random_forest = round(random_forest.score(X_train, Y_train)*100, 2)\n",
    "\n",
    "# KNN\n",
    "knn = KNeighborsClassifier(n_neighbors = 3)\n",
    "knn.fit(X_train, Y_train)\n",
    "Y_pred_KNN = knn.predict(X_test)\n",
    "acc_knn = round(knn.score(X_train, Y_train)*100, 2)\n",
    "\n",
    "# Decision Tree\n",
    "decision_tree = DecisionTreeClassifier()\n",
    "decision_tree.fit(X_train, Y_train)\n",
    "Y_pred_decision_tree = decision_tree.predict(X_test)\n",
    "acc_decision_tree = round(decision_tree.score(X_train, Y_train)*100, 2)\n",
    "\n",
    "# model evaluation\n",
    "models = pd.DataFrame({'Model': ['Logistic Regression', 'SVM', 'Random Forest', 'KNN', 'Decision Tree'], 'Score': [acc_log, acc_svc, acc_random_forest, acc_knn, acc_decision_tree]})\n",
    "models.sort_values(by='Score', ascending=False)"
   ]
  },
  {
   "cell_type": "markdown",
   "id": "991d706f",
   "metadata": {
    "papermill": {
     "duration": 0.009337,
     "end_time": "2023-03-24T23:04:52.563433",
     "exception": false,
     "start_time": "2023-03-24T23:04:52.554096",
     "status": "completed"
    },
    "tags": []
   },
   "source": [
    "According to the above comparison, we may choose Random Forest or Decision Tree Classifier to predict the data."
   ]
  },
  {
   "cell_type": "code",
   "execution_count": 16,
   "id": "fef8dadb",
   "metadata": {
    "execution": {
     "iopub.execute_input": "2023-03-24T23:04:52.584828Z",
     "iopub.status.busy": "2023-03-24T23:04:52.584425Z",
     "iopub.status.idle": "2023-03-24T23:04:52.597868Z",
     "shell.execute_reply": "2023-03-24T23:04:52.596264Z"
    },
    "papermill": {
     "duration": 0.027776,
     "end_time": "2023-03-24T23:04:52.600815",
     "exception": false,
     "start_time": "2023-03-24T23:04:52.573039",
     "status": "completed"
    },
    "tags": []
   },
   "outputs": [
    {
     "name": "stdout",
     "output_type": "stream",
     "text": [
      "Your submission was successfully saved!\n"
     ]
    }
   ],
   "source": [
    "submission = pd.DataFrame({'PassengerId': test_df['PassengerId'], 'Survived': Y_pred_decision_tree})\n",
    "submission.to_csv('submission.csv', index=False)\n",
    "print('Your submission was successfully saved!')"
   ]
  }
 ],
 "metadata": {
  "kernelspec": {
   "display_name": "Python 3",
   "language": "python",
   "name": "python3"
  },
  "language_info": {
   "codemirror_mode": {
    "name": "ipython",
    "version": 3
   },
   "file_extension": ".py",
   "mimetype": "text/x-python",
   "name": "python",
   "nbconvert_exporter": "python",
   "pygments_lexer": "ipython3",
   "version": "3.7.12"
  },
  "papermill": {
   "default_parameters": {},
   "duration": 14.015835,
   "end_time": "2023-03-24T23:04:53.331991",
   "environment_variables": {},
   "exception": null,
   "input_path": "__notebook__.ipynb",
   "output_path": "__notebook__.ipynb",
   "parameters": {},
   "start_time": "2023-03-24T23:04:39.316156",
   "version": "2.4.0"
  }
 },
 "nbformat": 4,
 "nbformat_minor": 5
}
